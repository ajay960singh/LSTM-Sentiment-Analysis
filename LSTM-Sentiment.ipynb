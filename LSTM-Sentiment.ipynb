{
 "cells": [
  {
   "cell_type": "code",
   "execution_count": 1,
   "metadata": {},
   "outputs": [],
   "source": [
    "import numpy as np\n",
    "import pandas as pd\n",
    "import os\n",
    "import glob\n",
    "import string\n",
    "import re\n",
    "import matplotlib.pyplot as plt\n",
    "%matplotlib inline\n",
    "from sklearn.model_selection import train_test_split"
   ]
  },
  {
   "cell_type": "markdown",
   "metadata": {},
   "source": [
    "## Pre-process Review data"
   ]
  },
  {
   "cell_type": "code",
   "execution_count": 2,
   "metadata": {},
   "outputs": [],
   "source": [
    "# Get the current working directory\n",
    "working_dir=os.getcwd()"
   ]
  },
  {
   "cell_type": "code",
   "execution_count": 3,
   "metadata": {},
   "outputs": [],
   "source": [
    "# Get the positive reviews in a list\n",
    "path_pos = working_dir+'/train/pos' # use your path\n",
    "allFiles_pos = glob.glob(path_pos + \"/*.txt\")\n",
    "list_final_pos = []\n",
    "for file in allFiles_pos:\n",
    "    temp_pos=pd.read_table(file, header=None)\n",
    "    list_pos=[]\n",
    "    for r in temp_pos[0]:\n",
    "        list_pos.append(r)\n",
    "    list_pos=''.join(list_pos)\n",
    "    list_final_pos.append(list_pos)  \n",
    "    \n",
    "# Get the negative reviews in a list\n",
    "path_neg = working_dir+'/train/neg' # use your path\n",
    "allFiles_neg = glob.glob(path_neg + \"/*.txt\")\n",
    "list_final_neg = []\n",
    "for file in allFiles_neg:\n",
    "    temp_neg=pd.read_table(file, header=None)\n",
    "    list_neg=[]\n",
    "    for r in temp_neg[0]:\n",
    "        list_neg.append(r)\n",
    "    list_neg=''.join(list_neg)\n",
    "    list_final_neg.append(list_neg)  \n",
    "\n",
    "# Combine the lists\n",
    "list_final = list_final_pos + list_final_neg"
   ]
  },
  {
   "cell_type": "code",
   "execution_count": 4,
   "metadata": {},
   "outputs": [],
   "source": [
    "# define the labels\n",
    "labels=[]\n",
    "for i in range(0,25000):\n",
    "    if i<12500:\n",
    "        labels.append(1)\n",
    "    else:\n",
    "        labels.append(0)"
   ]
  },
  {
   "cell_type": "code",
   "execution_count": 82,
   "metadata": {},
   "outputs": [
    {
     "name": "stdout",
     "output_type": "stream",
     "text": [
      "Before Cleaning:  Aileen Gonsalves, my girlfriend, is in this film playing a secretary at the main character's bank. She has a lovely scene with Roshan Seth in a restaurant. There's more information on her website at >Having stated my personal interest in the film, I have to say that I think it is a beautiful movie - moving, funny and beautifully filmed.\n",
      "After Cleaning:  aileen gonsalves, my girlfriend, is in this film playing a secretary at the main character's bank. she has a lovely scene with roshan seth in a restaurant. there's more information on her website at >having stated my personal interest in the film, i have to say that i think it is a beautiful movie - moving, funny and beautifully filmed.\n"
     ]
    }
   ],
   "source": [
    "'''\n",
    "Clean each document by removing unnecesary characters and splitting by space.\n",
    "'''\n",
    "def clean_document(doco):\n",
    "#     punctuation = string.punctuation + '\\n\\n';\n",
    "#     punc_replace = ''.join([' ' for s in punctuation]);\n",
    "# #     print(punc_replace)\n",
    "#     doco_clean = doco.replace('-', ' ');\n",
    "#     doco_alphas = re.sub(r'\\W +', '', doco_clean)\n",
    "#     trans_table = str.maketrans(punctuation, punc_replace);\n",
    "#     doco_clean = ' '.join([word.translate(trans_table) for word in doco_alphas.split(' ')]);\n",
    "    doco_clean = doco.split(' ');\n",
    "    doco_clean = [word.lower() for word in doco_clean if len(word) > 0];\n",
    "    \n",
    "    return doco_clean;\n",
    "\n",
    "review_cleans = [clean_document(doc) for doc in list_final];\n",
    "sentences = [' '.join(r) for r in review_cleans]\n",
    "\n",
    "print('Before Cleaning: ', list_final[10])\n",
    "print('After Cleaning: ', sentences[10])"
   ]
  },
  {
   "cell_type": "code",
   "execution_count": 86,
   "metadata": {},
   "outputs": [
    {
     "name": "stdout",
     "output_type": "stream",
     "text": [
      "Vocabulary Size:  88524\n",
      "\n",
      "Text before Sequence Encoding:  aileen gonsalves, my girlfriend, is in this film playing a secretary at the main character's bank. she has a lovely scene with roshan seth in a restaurant. there's more information on her website at >having stated my personal interest in the film, i have to say that i think it is a beautiful movie - moving, funny and beautifully filmed.\n",
      "Text after Sequence Encoding:  [18487, 51994, 58, 976, 6, 8, 11, 19, 393, 3, 3381, 30, 1, 290, 1745, 1974, 57, 45, 3, 1330, 133, 16, 20587, 7798, 8, 3, 3730, 222, 50, 1613, 20, 38, 3893, 30, 257, 3415, 58, 965, 599, 8, 1, 19, 10, 25, 5, 132, 12, 10, 101, 9, 6, 3, 304, 17, 724, 161, 2, 1289, 814]\n",
      "\n",
      "Before Padding:  [18487, 51994, 58, 976, 6, 8, 11, 19, 393, 3, 3381, 30, 1, 290, 1745, 1974, 57, 45, 3, 1330, 133, 16, 20587, 7798, 8, 3, 3730, 222, 50, 1613, 20, 38, 3893, 30, 257, 3415, 58, 965, 599, 8, 1, 19, 10, 25, 5, 132, 12, 10, 101, 9, 6, 3, 304, 17, 724, 161, 2, 1289, 814]\n",
      "After Padding:  [18487 51994    58   976     6     8    11    19   393     3  3381    30\n",
      "     1   290  1745  1974    57    45     3  1330   133    16 20587  7798\n",
      "     8     3  3730   222    50  1613    20    38  3893    30   257  3415\n",
      "    58   965   599     8     1    19    10    25     5   132    12    10\n",
      "   101     9     6     3   304    17   724   161     2  1289   814     0\n",
      "     0     0     0     0     0     0     0     0     0     0     0     0\n",
      "     0     0     0     0     0     0     0     0     0     0     0     0\n",
      "     0     0     0     0     0     0     0     0     0     0     0     0\n",
      "     0     0     0     0     0     0     0     0     0     0     0     0\n",
      "     0     0     0     0     0     0     0     0     0     0     0     0\n",
      "     0     0     0     0     0     0     0     0     0     0     0     0\n",
      "     0     0     0     0     0     0     0     0     0     0     0     0\n",
      "     0     0     0     0     0     0     0     0     0     0     0     0\n",
      "     0     0     0     0     0     0     0     0     0     0     0     0\n",
      "     0     0     0     0     0     0     0     0     0     0     0     0\n",
      "     0     0     0     0     0     0     0     0     0     0     0     0\n",
      "     0     0     0     0     0     0     0     0     0     0     0     0\n",
      "     0     0     0     0     0     0     0     0]\n"
     ]
    }
   ],
   "source": [
    "# Prepare Tokenizer\n",
    "t = Tokenizer()\n",
    "t.fit_on_texts(sentences)\n",
    "vocab_size = len(t.word_index) + 1\n",
    "print('Vocabulary Size: ', vocab_size)\n",
    "\n",
    "# integer encode the documents\n",
    "encoded_docs = t.texts_to_sequences(sentences)\n",
    "print('\\nText before Sequence Encoding: ', sentences[10])\n",
    "print('Text after Sequence Encoding: ', encoded_docs[10])\n",
    "\n",
    "# pad documents to a max length of 4 words\n",
    "max_length = len(max(encoded_docs))\n",
    "padded_docs = pad_sequences(encoded_docs, maxlen=max_length, padding='post') \n",
    "print('\\nBefore Padding: ', encoded_docs[10])\n",
    "print('After Padding: ', padded_docs[10])"
   ]
  },
  {
   "cell_type": "code",
   "execution_count": 6,
   "metadata": {},
   "outputs": [
    {
     "name": "stdout",
     "output_type": "stream",
     "text": [
      "Loaded 400000 word vectors.\n"
     ]
    }
   ],
   "source": [
    "# Use pre-trained Glove word embeddings\n",
    "embeddings_index = dict()\n",
    "f = open('glove.6B.300d.txt') \n",
    "for line in f:\n",
    "    values = line.split()\n",
    "    word = values[0]\n",
    "    coefs = np.asarray(values[1:], dtype='float32')\n",
    "    embeddings_index[word] = coefs\n",
    "f.close()\n",
    "print('Loaded %s word vectors.' % len(embeddings_index))"
   ]
  },
  {
   "cell_type": "code",
   "execution_count": 7,
   "metadata": {},
   "outputs": [],
   "source": [
    "# create a weight matrix for words in training docs\n",
    "embedding_matrix = np.zeros((vocab_size, 300))\n",
    "for word, i in t.word_index.items():\n",
    "    embedding_vector = embeddings_index.get(word)\n",
    "    if embedding_vector is not None:\n",
    "        embedding_matrix[i] = embedding_vector# create a weight matrix for words in training docs"
   ]
  },
  {
   "cell_type": "code",
   "execution_count": 22,
   "metadata": {},
   "outputs": [],
   "source": [
    "# Define independent and dependent variables\n",
    "X = np.array(padded_docs)\n",
    "y = np.array(labels)\n",
    "# Split the data into training set and validation set\n",
    "X_train,X_val,y_train,y_val= train_test_split(X,y,test_size=0.2,random_state=13)"
   ]
  },
  {
   "cell_type": "markdown",
   "metadata": {},
   "source": [
    "## LSTM- Keras"
   ]
  },
  {
   "cell_type": "code",
   "execution_count": null,
   "metadata": {},
   "outputs": [],
   "source": [
    "import keras\n",
    "from keras.preprocessing.text import Tokenizer\n",
    "from keras.preprocessing.sequence import pad_sequences\n",
    "from keras.models import Sequential\n",
    "from keras.layers import Dense, Flatten, Dropout\n",
    "from keras.layers import Embedding\n",
    "from keras.optimizers import RMSprop, Adam\n",
    "from keras.layers import LSTM"
   ]
  },
  {
   "cell_type": "code",
   "execution_count": 37,
   "metadata": {},
   "outputs": [],
   "source": [
    "# define LSTM model\n",
    "model = Sequential()\n",
    "e = Embedding(vocab_size, 300, weights=[embedding_matrix], input_length=max_length, trainable=False)\n",
    "model.add(e)\n",
    "model.add(LSTM(60))\n",
    "model.add(Dropout(0.25))\n",
    "# model.add(Flatten())\n",
    "model.add(Dense(60, activation='relu'))\n",
    "model.add(Dropout(0.25))\n",
    "model.add(Dense(1, activation = 'sigmoid'))"
   ]
  },
  {
   "cell_type": "code",
   "execution_count": 38,
   "metadata": {},
   "outputs": [],
   "source": [
    "optimizer = Adam(lr=0.0001)\n",
    "# compile the model\n",
    "model.compile(optimizer=optimizer, loss='binary_crossentropy', metrics=['acc'])"
   ]
  },
  {
   "cell_type": "code",
   "execution_count": 39,
   "metadata": {},
   "outputs": [
    {
     "name": "stdout",
     "output_type": "stream",
     "text": [
      "_________________________________________________________________\n",
      "Layer (type)                 Output Shape              Param #   \n",
      "=================================================================\n",
      "embedding_6 (Embedding)      (None, 212, 300)          26557200  \n",
      "_________________________________________________________________\n",
      "lstm_6 (LSTM)                (None, 60)                86640     \n",
      "_________________________________________________________________\n",
      "dropout_9 (Dropout)          (None, 60)                0         \n",
      "_________________________________________________________________\n",
      "dense_11 (Dense)             (None, 60)                3660      \n",
      "_________________________________________________________________\n",
      "dropout_10 (Dropout)         (None, 60)                0         \n",
      "_________________________________________________________________\n",
      "dense_12 (Dense)             (None, 1)                 61        \n",
      "=================================================================\n",
      "Total params: 26,647,561\n",
      "Trainable params: 90,361\n",
      "Non-trainable params: 26,557,200\n",
      "_________________________________________________________________\n"
     ]
    }
   ],
   "source": [
    "# summarize the model\n",
    "model.summary()"
   ]
  },
  {
   "cell_type": "code",
   "execution_count": 40,
   "metadata": {},
   "outputs": [
    {
     "name": "stdout",
     "output_type": "stream",
     "text": [
      "Train on 20000 samples, validate on 5000 samples\n",
      "Epoch 1/20\n",
      "20000/20000 [==============================] - 68s 3ms/step - loss: 0.6920 - acc: 0.5152 - val_loss: 0.6878 - val_acc: 0.5414\n",
      "Epoch 2/20\n",
      "20000/20000 [==============================] - 65s 3ms/step - loss: 0.6838 - acc: 0.5457 - val_loss: 0.6669 - val_acc: 0.5730\n",
      "Epoch 3/20\n",
      "20000/20000 [==============================] - 63s 3ms/step - loss: 0.6365 - acc: 0.6517 - val_loss: 0.5753 - val_acc: 0.7510\n",
      "Epoch 4/20\n",
      "20000/20000 [==============================] - 64s 3ms/step - loss: 0.5085 - acc: 0.7776 - val_loss: 0.4708 - val_acc: 0.7964\n",
      "Epoch 5/20\n",
      "20000/20000 [==============================] - 66s 3ms/step - loss: 0.4552 - acc: 0.8070 - val_loss: 0.4446 - val_acc: 0.8038\n",
      "Epoch 6/20\n",
      "20000/20000 [==============================] - 60s 3ms/step - loss: 0.4321 - acc: 0.8153 - val_loss: 0.4200 - val_acc: 0.8204\n",
      "Epoch 7/20\n",
      "20000/20000 [==============================] - 61s 3ms/step - loss: 0.4096 - acc: 0.8245 - val_loss: 0.4073 - val_acc: 0.8202\n",
      "Epoch 8/20\n",
      "20000/20000 [==============================] - 99s 5ms/step - loss: 0.3917 - acc: 0.8302 - val_loss: 0.3948 - val_acc: 0.8302\n",
      "Epoch 9/20\n",
      "20000/20000 [==============================] - 76s 4ms/step - loss: 0.3835 - acc: 0.8370 - val_loss: 0.3854 - val_acc: 0.8304\n",
      "Epoch 10/20\n",
      "20000/20000 [==============================] - 82s 4ms/step - loss: 0.3751 - acc: 0.8400 - val_loss: 0.3881 - val_acc: 0.8298\n",
      "Epoch 11/20\n",
      "20000/20000 [==============================] - 96s 5ms/step - loss: 0.3665 - acc: 0.8437 - val_loss: 0.4152 - val_acc: 0.8116\n",
      "Epoch 12/20\n",
      "20000/20000 [==============================] - 64s 3ms/step - loss: 0.3627 - acc: 0.8463 - val_loss: 0.3981 - val_acc: 0.8296\n",
      "Epoch 13/20\n",
      "20000/20000 [==============================] - 66s 3ms/step - loss: 0.3582 - acc: 0.8465 - val_loss: 0.4092 - val_acc: 0.8216\n",
      "Epoch 14/20\n",
      "20000/20000 [==============================] - 67s 3ms/step - loss: 0.3538 - acc: 0.8489 - val_loss: 0.3660 - val_acc: 0.8418\n",
      "Epoch 15/20\n",
      "20000/20000 [==============================] - 71s 4ms/step - loss: 0.3453 - acc: 0.8537 - val_loss: 0.3608 - val_acc: 0.8400\n",
      "Epoch 16/20\n",
      "20000/20000 [==============================] - 79s 4ms/step - loss: 0.3441 - acc: 0.8576 - val_loss: 0.3578 - val_acc: 0.8456\n",
      "Epoch 17/20\n",
      "20000/20000 [==============================] - 74s 4ms/step - loss: 0.3359 - acc: 0.8580 - val_loss: 0.3533 - val_acc: 0.8468\n",
      "Epoch 18/20\n",
      "20000/20000 [==============================] - 70s 3ms/step - loss: 0.3375 - acc: 0.8583 - val_loss: 0.3553 - val_acc: 0.8438\n",
      "Epoch 19/20\n",
      "20000/20000 [==============================] - 63s 3ms/step - loss: 0.3303 - acc: 0.8619 - val_loss: 0.3581 - val_acc: 0.8418\n",
      "Epoch 20/20\n",
      "20000/20000 [==============================] - 62s 3ms/step - loss: 0.3252 - acc: 0.8650 - val_loss: 0.3456 - val_acc: 0.8506\n"
     ]
    }
   ],
   "source": [
    "# Train the model\n",
    "batch_size = 128\n",
    "epochs = 20\n",
    "lstm_model = model.fit(X_train,y_train, batch_size=batch_size, epochs=epochs, verbose= 1, validation_data=(X_val,y_val))"
   ]
  },
  {
   "cell_type": "code",
   "execution_count": 41,
   "metadata": {},
   "outputs": [
    {
     "data": {
      "text/plain": [
       "<matplotlib.legend.Legend at 0x1a305794a8>"
      ]
     },
     "execution_count": 41,
     "metadata": {},
     "output_type": "execute_result"
    },
    {
     "data": {
      "image/png": "[encoded data removed]",
      "text/plain": [
       "<matplotlib.figure.Figure at 0x1a30544be0>"
      ]
     },
     "metadata": {},
     "output_type": "display_data"
    }
   ],
   "source": [
    "'''\n",
    "Visualize the Training and Validation accuracies for the given epochs\n",
    "'''\n",
    "# Gives a list of accuracies\n",
    "accuracy= lstm_model.history['acc']\n",
    "val_accuracy = lstm_model.history['val_acc']\n",
    "loss = lstm_model.history['loss']\n",
    "val_loss = lstm_model.history['val_loss']\n",
    "\n",
    "# Define x-axis\n",
    "epoch=range(len(accuracy))\n",
    "# Plot\n",
    "plt.subplots(figsize=(12, 6))\n",
    "plt.plot(epoch, accuracy, 'b', label='Training accuracy', color='r')\n",
    "plt.plot(epoch, val_accuracy, 'b', label='Validation accuracy')\n",
    "plt.legend()"
   ]
  },
  {
   "cell_type": "code",
   "execution_count": 91,
   "metadata": {},
   "outputs": [
    {
     "name": "stdout",
     "output_type": "stream",
     "text": [
      "5000/5000 [==============================] - 9s 2ms/step\n",
      "Validation loss:  0.34563790402412414\n",
      "Validation Accuracy:  0.8506\n"
     ]
    }
   ],
   "source": [
    "loss, accuracy = model.evaluate(X_val,y_val)\n",
    "print('Validation loss: ', loss)\n",
    "print('Validation Accuracy: ', accuracy)"
   ]
  },
  {
   "cell_type": "markdown",
   "metadata": {},
   "source": [
    "## Test Set Evaluation"
   ]
  },
  {
   "cell_type": "code",
   "execution_count": 93,
   "metadata": {},
   "outputs": [
    {
     "name": "stdout",
     "output_type": "stream",
     "text": [
      "Number of test examples:  25000\n"
     ]
    }
   ],
   "source": [
    "# Get the positive reviews in a list\n",
    "path_pos = working_dir+'/test/pos' # use your path\n",
    "allFiles_pos = glob.glob(path_pos + \"/*.txt\")\n",
    "test_list_final_pos = []\n",
    "for file in allFiles_pos:\n",
    "    temp_pos=pd.read_table(file, header=None)\n",
    "    list_pos=[]\n",
    "    for r in temp_pos[0]:\n",
    "        list_pos.append(r)\n",
    "    list_pos=''.join(list_pos)\n",
    "    test_list_final_pos.append(list_pos)  \n",
    "    \n",
    "# Get the negative reviews in a list\n",
    "path_neg = working_dir+'/test/neg' # use your path\n",
    "allFiles_neg = glob.glob(path_neg + \"/*.txt\")\n",
    "test_list_final_neg = []\n",
    "for file in allFiles_neg:\n",
    "    temp_neg=pd.read_table(file, header=None)\n",
    "    list_neg=[]\n",
    "    for r in temp_neg[0]:\n",
    "        list_neg.append(r)\n",
    "    list_neg=''.join(list_neg)\n",
    "    test_list_final_neg.append(list_neg)  \n",
    "\n",
    "# Combine the lists\n",
    "test_list_final = test_list_final_pos + test_list_final_neg\n",
    "print('Number of test examples: ', len(test_list_final) )"
   ]
  },
  {
   "cell_type": "code",
   "execution_count": 71,
   "metadata": {},
   "outputs": [],
   "source": [
    "# Clean the data\n",
    "test_review_cleans = [clean_document(doc) for doc in test_list_final];\n",
    "test_sentences = [' '.join(r) for r in test_review_cleans]\n",
    "\n",
    "# Use the same tokenizer as before\n",
    "test_encoded_docs = t.texts_to_sequences(test_sentences)\n",
    "\n",
    "# pad documents to the same max_length\n",
    "test_padded_docs = pad_sequences(test_encoded_docs, maxlen=max_length, padding='post') "
   ]
  },
  {
   "cell_type": "code",
   "execution_count": 92,
   "metadata": {},
   "outputs": [
    {
     "name": "stdout",
     "output_type": "stream",
     "text": [
      "25000/25000 [==============================] - 45s 2ms/step\n",
      "Test Accuracy:  0.85476\n"
     ]
    }
   ],
   "source": [
    "test_loss, test_accuracy = model.evaluate(test_padded_docs,labels)\n",
    "print('Test Accuracy: ', test_accuracy)"
   ]
  }
 ],
 "metadata": {
  "kernelspec": {
   "display_name": "Python 3",
   "language": "python",
   "name": "python3"
  },
  "language_info": {
   "codemirror_mode": {
    "name": "ipython",
    "version": 3
   },
   "file_extension": ".py",
   "mimetype": "text/x-python",
   "name": "python",
   "nbconvert_exporter": "python",
   "pygments_lexer": "ipython3",
   "version": "3.6.4"
  }
 },
 "nbformat": 4,
 "nbformat_minor": 2
}
