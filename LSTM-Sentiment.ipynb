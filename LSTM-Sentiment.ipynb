{
 "cells": [
  {
   "cell_type": "code",
   "execution_count": 1,
   "metadata": {},
   "outputs": [
    {
     "name": "stderr",
     "output_type": "stream",
     "text": [
      "/Users/ajaysingh/anaconda3/lib/python3.6/site-packages/h5py/__init__.py:36: FutureWarning: Conversion of the second argument of issubdtype from `float` to `np.floating` is deprecated. In future, it will be treated as `np.float64 == np.dtype(float).type`.\n",
      "  from ._conv import register_converters as _register_converters\n",
      "Using TensorFlow backend.\n"
     ]
    }
   ],
   "source": [
    "import numpy as np\n",
    "import pandas as pd\n",
    "import os\n",
    "import glob\n",
    "import string\n",
    "import re\n",
    "import matplotlib.pyplot as plt\n",
    "%matplotlib inline\n",
    "from sklearn.model_selection import train_test_split\n",
    "import keras\n",
    "from keras.preprocessing.text import Tokenizer\n",
    "from keras.preprocessing.sequence import pad_sequences\n",
    "from keras.models import Sequential\n",
    "from keras.layers import Dense, Flatten, Dropout\n",
    "from keras.layers import Embedding\n",
    "from keras.optimizers import RMSprop, Adam\n",
    "from keras.layers import LSTM"
   ]
  },
  {
   "cell_type": "markdown",
   "metadata": {},
   "source": [
    "## Pre-processing Review data"
   ]
  },
  {
   "cell_type": "code",
   "execution_count": 2,
   "metadata": {},
   "outputs": [],
   "source": [
    "# Get the current working directory\n",
    "working_dir=os.getcwd()"
   ]
  },
  {
   "cell_type": "code",
   "execution_count": 3,
   "metadata": {},
   "outputs": [],
   "source": [
    "# Get the positive reviews in a list\n",
    "path_pos = working_dir+'/train/pos' # use your path\n",
    "allFiles_pos = glob.glob(path_pos + \"/*.txt\")\n",
    "list_final_pos = []\n",
    "for file in allFiles_pos:\n",
    "    temp_pos=pd.read_table(file, header=None)\n",
    "    list_pos=[]\n",
    "    for r in temp_pos[0]:\n",
    "        list_pos.append(r)\n",
    "    list_pos=''.join(list_pos)\n",
    "    list_final_pos.append(list_pos)  \n",
    "    \n",
    "# Get the negative reviews in a list\n",
    "path_neg = working_dir+'/train/neg' # use your path\n",
    "allFiles_neg = glob.glob(path_neg + \"/*.txt\")\n",
    "list_final_neg = []\n",
    "for file in allFiles_neg:\n",
    "    temp_neg=pd.read_table(file, header=None)\n",
    "    list_neg=[]\n",
    "    for r in temp_neg[0]:\n",
    "        list_neg.append(r)\n",
    "    list_neg=''.join(list_neg)\n",
    "    list_final_neg.append(list_neg)  \n",
    "\n",
    "# Combine the lists\n",
    "list_final = list_final_pos + list_final_neg"
   ]
  },
  {
   "cell_type": "code",
   "execution_count": 4,
   "metadata": {},
   "outputs": [],
   "source": [
    "# define the labels\n",
    "labels=[]\n",
    "for i in range(0,25000):\n",
    "    if i<12500:\n",
    "        labels.append(1)\n",
    "    else:\n",
    "        labels.append(0)"
   ]
  },
  {
   "cell_type": "code",
   "execution_count": 19,
   "metadata": {},
   "outputs": [
    {
     "name": "stdout",
     "output_type": "stream",
     "text": [
      "Before Cleaning:  Aileen Gonsalves, my girlfriend, is in this film playing a secretary at the main character's bank. She has a lovely scene with Roshan Seth in a restaurant. There's more information on her website at >Having stated my personal interest in the film, I have to say that I think it is a beautiful movie - moving, funny and beautifully filmed.\n",
      "After Cleaning:  aileen gonsalves, my girlfriend, is in this film playing a secretary at the main character's bank. she has a lovely scene with roshan seth in a restaurant. there's more information on her website at >having stated my personal interest in the film, i have to say that i think it is a beautiful movie - moving, funny and beautifully filmed.\n"
     ]
    }
   ],
   "source": [
    "'''\n",
    "Clean each document by removing unnecesary characters and splitting by space.\n",
    "'''\n",
    "def clean_document(doco):\n",
    "#     punctuation = string.punctuation + '\\n\\n';\n",
    "#     punc_replace = ''.join([' ' for s in punctuation]);\n",
    "# #     print(punc_replace)\n",
    "#     doco_clean = doco.replace('-', ' ');\n",
    "#     doco_alphas = re.sub(r'\\W +', '', doco_clean)\n",
    "#     trans_table = str.maketrans(punctuation, punc_replace);\n",
    "#     doco_clean = ' '.join([word.translate(trans_table) for word in doco_alphas.split(' ')]);\n",
    "    doco_clean = doco.split(' ');\n",
    "    doco_clean = [word.lower() for word in doco_clean if len(word) > 0];\n",
    "    \n",
    "    return doco_clean;\n",
    "\n",
    "review_cleans = [clean_document(doc) for doc in list_final];\n",
    "sentences = [' '.join(r) for r in review_cleans]\n",
    "\n",
    "print('Before Cleaning: ', list_final[10])\n",
    "print('After Cleaning: ', sentences[10])"
   ]
  },
  {
   "cell_type": "code",
   "execution_count": 21,
   "metadata": {},
   "outputs": [
    {
     "name": "stdout",
     "output_type": "stream",
     "text": [
      "Vocabulary Size:  88524\n",
      "\n",
      "Text before Sequence Encoding:  aileen gonsalves, my girlfriend, is in this film playing a secretary at the main character's bank. she has a lovely scene with roshan seth in a restaurant. there's more information on her website at >having stated my personal interest in the film, i have to say that i think it is a beautiful movie - moving, funny and beautifully filmed.\n",
      "Text after Sequence Encoding:  [18487, 51994, 58, 976, 6, 8, 11, 19, 393, 3, 3381, 30, 1, 290, 1745, 1974, 57, 45, 3, 1330, 133, 16, 20587, 7798, 8, 3, 3730, 222, 50, 1613, 20, 38, 3893, 30, 257, 3415, 58, 965, 599, 8, 1, 19, 10, 25, 5, 132, 12, 10, 101, 9, 6, 3, 304, 17, 724, 161, 2, 1289, 814]\n",
      "\n",
      "Before Padding:  [18487, 51994, 58, 976, 6, 8, 11, 19, 393, 3, 3381, 30, 1, 290, 1745, 1974, 57, 45, 3, 1330, 133, 16, 20587, 7798, 8, 3, 3730, 222, 50, 1613, 20, 38, 3893, 30, 257, 3415, 58, 965, 599, 8, 1, 19, 10, 25, 5, 132, 12, 10, 101, 9, 6, 3, 304, 17, 724, 161, 2, 1289, 814]\n",
      "After Padding:  [18487 51994    58   976     6     8    11    19   393     3  3381    30\n",
      "     1   290  1745  1974    57    45     3  1330   133    16 20587  7798\n",
      "     8     3  3730   222    50  1613    20    38  3893    30   257  3415\n",
      "    58   965   599     8     1    19    10    25     5   132    12    10\n",
      "   101     9     6     3   304    17   724   161     2  1289   814     0\n",
      "     0     0     0     0     0     0     0     0     0     0     0     0\n",
      "     0     0     0     0     0     0     0     0     0     0     0     0\n",
      "     0     0     0     0     0     0     0     0     0     0     0     0\n",
      "     0     0     0     0     0     0     0     0     0     0     0     0\n",
      "     0     0     0     0     0     0     0     0     0     0     0     0\n",
      "     0     0     0     0     0     0     0     0     0     0     0     0\n",
      "     0     0     0     0     0     0     0     0     0     0     0     0\n",
      "     0     0     0     0     0     0     0     0     0     0     0     0\n",
      "     0     0     0     0     0     0     0     0     0     0     0     0\n",
      "     0     0     0     0     0     0     0     0     0     0     0     0\n",
      "     0     0     0     0     0     0     0     0     0     0     0     0\n",
      "     0     0     0     0     0     0     0     0     0     0     0     0\n",
      "     0     0     0     0     0     0     0     0]\n"
     ]
    }
   ],
   "source": [
    "# Prepare Tokenizer\n",
    "t = Tokenizer()\n",
    "t.fit_on_texts(sentences)\n",
    "vocab_size = len(t.word_index) + 1\n",
    "print('Vocabulary Size: ', vocab_size)\n",
    "\n",
    "# integer encode the documents\n",
    "encoded_docs = t.texts_to_sequences(sentences)\n",
    "print('\\nText before Sequence Encoding: ', sentences[10])\n",
    "print('Text after Sequence Encoding: ', encoded_docs[10])\n",
    "\n",
    "# pad documents to a max length of 4 words\n",
    "max_length = len(max(encoded_docs))\n",
    "padded_docs = pad_sequences(encoded_docs, maxlen=max_length, padding='post') \n",
    "print('\\nBefore Padding: ', encoded_docs[10])\n",
    "print('After Padding: ', padded_docs[10])"
   ]
  },
  {
   "cell_type": "code",
   "execution_count": 6,
   "metadata": {},
   "outputs": [
    {
     "name": "stdout",
     "output_type": "stream",
     "text": [
      "Loaded 400000 word vectors.\n"
     ]
    }
   ],
   "source": [
    "# Use pre-trained Glove word embeddings\n",
    "embeddings_index = dict()\n",
    "f = open('glove.6B.300d.txt') \n",
    "for line in f:\n",
    "    values = line.split()\n",
    "    word = values[0]\n",
    "    coefs = np.asarray(values[1:], dtype='float32')\n",
    "    embeddings_index[word] = coefs\n",
    "f.close()\n",
    "print('Loaded %s word vectors.' % len(embeddings_index))"
   ]
  },
  {
   "cell_type": "code",
   "execution_count": 7,
   "metadata": {},
   "outputs": [],
   "source": [
    "# create a weight matrix for words in training docs\n",
    "embedding_matrix = np.zeros((vocab_size, 300))\n",
    "for word, i in t.word_index.items():\n",
    "    embedding_vector = embeddings_index.get(word)\n",
    "    if embedding_vector is not None:\n",
    "        embedding_matrix[i] = embedding_vector# create a weight matrix for words in training docs"
   ]
  },
  {
   "cell_type": "code",
   "execution_count": 22,
   "metadata": {},
   "outputs": [],
   "source": [
    "# Define independent and dependent variables\n",
    "X = np.array(padded_docs)\n",
    "y = np.array(labels)\n",
    "# Split the data into training set and validation set\n",
    "X_train,X_val,y_train,y_val= train_test_split(X,y,test_size=0.2,random_state=13)"
   ]
  },
  {
   "cell_type": "code",
   "execution_count": 28,
   "metadata": {},
   "outputs": [],
   "source": [
    "# define LSTM model\n",
    "model = Sequential()\n",
    "e = Embedding(vocab_size, 300, weights=[embedding_matrix], input_length=max_length, trainable=False)\n",
    "model.add(e)\n",
    "model.add(LSTM(60))\n",
    "model.add(Dropout(0.25))\n",
    "# model.add(Flatten())\n",
    "model.add(Dense(60, activation='relu'))\n",
    "model.add(Dropout(0.25))\n",
    "model.add(Dense(1, activation = 'sigmoid'))"
   ]
  },
  {
   "cell_type": "code",
   "execution_count": 29,
   "metadata": {},
   "outputs": [],
   "source": [
    "optimizer = Adam(lr=0.0001)\n",
    "# compile the model\n",
    "model.compile(optimizer=optimizer, loss='binary_crossentropy', metrics=['acc'])"
   ]
  },
  {
   "cell_type": "code",
   "execution_count": 30,
   "metadata": {},
   "outputs": [
    {
     "name": "stdout",
     "output_type": "stream",
     "text": [
      "_________________________________________________________________\n",
      "Layer (type)                 Output Shape              Param #   \n",
      "=================================================================\n",
      "embedding_4 (Embedding)      (None, 212, 300)          26557200  \n",
      "_________________________________________________________________\n",
      "lstm_4 (LSTM)                (None, 60)                86640     \n",
      "_________________________________________________________________\n",
      "dropout_5 (Dropout)          (None, 60)                0         \n",
      "_________________________________________________________________\n",
      "dense_7 (Dense)              (None, 60)                3660      \n",
      "_________________________________________________________________\n",
      "dropout_6 (Dropout)          (None, 60)                0         \n",
      "_________________________________________________________________\n",
      "dense_8 (Dense)              (None, 1)                 61        \n",
      "=================================================================\n",
      "Total params: 26,647,561\n",
      "Trainable params: 90,361\n",
      "Non-trainable params: 26,557,200\n",
      "_________________________________________________________________\n"
     ]
    }
   ],
   "source": [
    "# summarize the model\n",
    "model.summary()"
   ]
  },
  {
   "cell_type": "code",
   "execution_count": 31,
   "metadata": {},
   "outputs": [
    {
     "name": "stdout",
     "output_type": "stream",
     "text": [
      "Train on 20000 samples, validate on 5000 samples\n",
      "Epoch 1/15\n",
      "20000/20000 [==============================] - 61s 3ms/step - loss: 0.6932 - acc: 0.5092 - val_loss: 0.6885 - val_acc: 0.5458\n",
      "Epoch 2/15\n",
      "20000/20000 [==============================] - 60s 3ms/step - loss: 0.6820 - acc: 0.5417 - val_loss: 0.6595 - val_acc: 0.5918\n",
      "Epoch 3/15\n",
      "20000/20000 [==============================] - 59s 3ms/step - loss: 0.6423 - acc: 0.6185 - val_loss: 0.6309 - val_acc: 0.6432\n",
      "Epoch 4/15\n",
      "20000/20000 [==============================] - 59s 3ms/step - loss: 0.6143 - acc: 0.6687 - val_loss: 0.5730 - val_acc: 0.7648\n",
      "Epoch 5/15\n",
      "20000/20000 [==============================] - 60s 3ms/step - loss: 0.5079 - acc: 0.7815 - val_loss: 0.4799 - val_acc: 0.7958\n",
      "Epoch 6/15\n",
      "20000/20000 [==============================] - 59s 3ms/step - loss: 0.4664 - acc: 0.7989 - val_loss: 0.4524 - val_acc: 0.8034\n",
      "Epoch 7/15\n",
      "20000/20000 [==============================] - 59s 3ms/step - loss: 0.4400 - acc: 0.8121 - val_loss: 0.4308 - val_acc: 0.8148\n",
      "Epoch 8/15\n",
      "20000/20000 [==============================] - 59s 3ms/step - loss: 0.4227 - acc: 0.8221 - val_loss: 0.4699 - val_acc: 0.7786\n",
      "Epoch 9/15\n",
      "20000/20000 [==============================] - 59s 3ms/step - loss: 0.4107 - acc: 0.8260 - val_loss: 0.4044 - val_acc: 0.8270\n",
      "Epoch 10/15\n",
      "20000/20000 [==============================] - 59s 3ms/step - loss: 0.3937 - acc: 0.8321 - val_loss: 0.3938 - val_acc: 0.8282\n",
      "Epoch 11/15\n",
      "20000/20000 [==============================] - 59s 3ms/step - loss: 0.3856 - acc: 0.8346 - val_loss: 0.3861 - val_acc: 0.8332\n",
      "Epoch 12/15\n",
      "20000/20000 [==============================] - 59s 3ms/step - loss: 0.3737 - acc: 0.8438 - val_loss: 0.3776 - val_acc: 0.8338\n",
      "Epoch 13/15\n",
      "20000/20000 [==============================] - 59s 3ms/step - loss: 0.3739 - acc: 0.8419 - val_loss: 0.3929 - val_acc: 0.8316\n",
      "Epoch 14/15\n",
      "20000/20000 [==============================] - 60s 3ms/step - loss: 0.3632 - acc: 0.8474 - val_loss: 0.3798 - val_acc: 0.8284\n",
      "Epoch 15/15\n",
      "20000/20000 [==============================] - 64s 3ms/step - loss: 0.3577 - acc: 0.8481 - val_loss: 0.3631 - val_acc: 0.8410\n"
     ]
    }
   ],
   "source": [
    "# Train the model\n",
    "batch_size = 128\n",
    "epochs = 15\n",
    "lstm_model = model.fit(X_train,y_train, batch_size=batch_size, epochs=epochs, verbose= 1, validation_data=(X_val,y_val))"
   ]
  },
  {
   "cell_type": "code",
   "execution_count": 32,
   "metadata": {},
   "outputs": [
    {
     "data": {
      "text/plain": [
       "<matplotlib.legend.Legend at 0x1a2e343a20>"
      ]
     },
     "execution_count": 32,
     "metadata": {},
     "output_type": "execute_result"
    },
    {
     "data": {
      "image/png": "[encoded data removed]",
      "text/plain": [
       "<matplotlib.figure.Figure at 0x1a2e3875f8>"
      ]
     },
     "metadata": {},
     "output_type": "display_data"
    }
   ],
   "source": [
    "# Gives a list of accuracies\n",
    "accuracy= lstm_model.history['acc']\n",
    "val_accuracy = lstm_model.history['val_acc']\n",
    "loss = lstm_model.history['loss']\n",
    "val_loss = lstm_model.history['val_loss']\n",
    "\n",
    "# Define x-axis\n",
    "epoch=range(len(accuracy))\n",
    "# Plot\n",
    "plt.plot(epoch, accuracy, 'b', label='Training accuracy', color='r')\n",
    "plt.plot(epoch, val_accuracy, 'b', label='Validation accuracy')\n",
    "plt.legend()"
   ]
  },
  {
   "cell_type": "markdown",
   "metadata": {},
   "source": [
    "# Test"
   ]
  },
  {
   "cell_type": "code",
   "execution_count": 55,
   "metadata": {},
   "outputs": [],
   "source": [
    "# Get the positive reviews in a list\n",
    "path_pos = working_dir+'/test/pos' # use your path\n",
    "allFiles_pos = glob.glob(path_pos + \"/*.txt\")\n",
    "test_list_final_pos = []\n",
    "for file in allFiles_pos:\n",
    "    temp_pos=pd.read_table(file, header=None)\n",
    "    list_pos=[]\n",
    "    for r in temp_pos[0]:\n",
    "        list_pos.append(r)\n",
    "    list_pos=''.join(list_pos)\n",
    "    test_list_final_pos.append(list_pos)  \n",
    "    \n",
    "# Get the negative reviews in a list\n",
    "path_neg = working_dir+'/test/neg' # use your path\n",
    "allFiles_neg = glob.glob(path_neg + \"/*.txt\")\n",
    "test_list_final_neg = []\n",
    "for file in allFiles_neg:\n",
    "    temp_neg=pd.read_table(file, header=None)\n",
    "    list_neg=[]\n",
    "    for r in temp_neg[0]:\n",
    "        list_neg.append(r)\n",
    "    list_neg=''.join(list_neg)\n",
    "    test_list_final_neg.append(list_neg)  \n",
    "\n",
    "# Combine the lists\n",
    "test_list_final = test_list_final_pos + test_list_final_neg"
   ]
  },
  {
   "cell_type": "code",
   "execution_count": 57,
   "metadata": {},
   "outputs": [
    {
     "data": {
      "text/plain": [
       "25000"
      ]
     },
     "execution_count": 57,
     "metadata": {},
     "output_type": "execute_result"
    }
   ],
   "source": [
    "len(test_list_final)"
   ]
  },
  {
   "cell_type": "code",
   "execution_count": 58,
   "metadata": {},
   "outputs": [
    {
     "data": {
      "text/plain": [
       "25000"
      ]
     },
     "execution_count": 58,
     "metadata": {},
     "output_type": "execute_result"
    }
   ],
   "source": [
    "len(labels)"
   ]
  },
  {
   "cell_type": "code",
   "execution_count": 59,
   "metadata": {},
   "outputs": [],
   "source": [
    "test_review_cleans = [clean_document(doc) for doc in test_list_final];\n",
    "test_sentences = [' '.join(r) for r in test_review_cleans]\n",
    "\n",
    "t.fit_on_texts(test_sentences)"
   ]
  },
  {
   "cell_type": "code",
   "execution_count": 60,
   "metadata": {},
   "outputs": [],
   "source": [
    "test_encoded_docs = t.texts_to_sequences(test_sentences)\n",
    "\n",
    "\n",
    "# pad documents to a max length of 4 words\n",
    "max_length = len(max(test_encoded_docs))\n",
    "test_padded_docs = pad_sequences(test_encoded_docs, maxlen=max_length, padding='post') "
   ]
  },
  {
   "cell_type": "code",
   "execution_count": 63,
   "metadata": {},
   "outputs": [
    {
     "ename": "AttributeError",
     "evalue": "'History' object has no attribute 'evaluate'",
     "output_type": "error",
     "traceback": [
      "\u001b[0;31m---------------------------------------------------------------------------\u001b[0m",
      "\u001b[0;31mAttributeError\u001b[0m                            Traceback (most recent call last)",
      "\u001b[0;32m<ipython-input-63-9e39fb08e9bb>\u001b[0m in \u001b[0;36m<module>\u001b[0;34m()\u001b[0m\n\u001b[0;32m----> 1\u001b[0;31m \u001b[0mmodel\u001b[0m\u001b[0;34m.\u001b[0m\u001b[0mevaluate\u001b[0m\u001b[0;34m(\u001b[0m\u001b[0mtest_padded_docs\u001b[0m\u001b[0;34m,\u001b[0m\u001b[0mlabels\u001b[0m\u001b[0;34m)\u001b[0m\u001b[0;34m\u001b[0m\u001b[0m\n\u001b[0m",
      "\u001b[0;31mAttributeError\u001b[0m: 'History' object has no attribute 'evaluate'"
     ]
    }
   ],
   "source": [
    "model.evaluate(test_padded_docs,labels)"
   ]
  },
  {
   "cell_type": "code",
   "execution_count": 62,
   "metadata": {},
   "outputs": [
    {
     "data": {
      "text/plain": [
       "{'acc': [0.5634,\n",
       "  0.62395,\n",
       "  0.548,\n",
       "  0.6624,\n",
       "  0.6303,\n",
       "  0.7314,\n",
       "  0.79115,\n",
       "  0.8084,\n",
       "  0.82905,\n",
       "  0.844,\n",
       "  0.85315,\n",
       "  0.8618,\n",
       "  0.86905,\n",
       "  0.8739,\n",
       "  0.87895,\n",
       "  0.88465,\n",
       "  0.89145,\n",
       "  0.89275,\n",
       "  0.89935,\n",
       "  0.905],\n",
       " 'loss': [0.6766251764297485,\n",
       "  0.6576078092575073,\n",
       "  0.6802116195678711,\n",
       "  0.6283672192573547,\n",
       "  0.6430201340198517,\n",
       "  0.5795192264556884,\n",
       "  0.5031528396606445,\n",
       "  0.46863952732086184,\n",
       "  0.42699192018508914,\n",
       "  0.37339579372406007,\n",
       "  0.34702622203826905,\n",
       "  0.3311570214748383,\n",
       "  0.3183390146255493,\n",
       "  0.3058153173208237,\n",
       "  0.29738404808044433,\n",
       "  0.28765466237068177,\n",
       "  0.2741039462566376,\n",
       "  0.2648162150144577,\n",
       "  0.2554270729541779,\n",
       "  0.24452546892166138],\n",
       " 'val_acc': [0.6734000007629395,\n",
       "  0.6451999995231629,\n",
       "  0.633200000667572,\n",
       "  0.6941999994277954,\n",
       "  0.6931999997138977,\n",
       "  0.7729999992370605,\n",
       "  0.7512000001907349,\n",
       "  0.8201999999046325,\n",
       "  0.830600000667572,\n",
       "  0.8379999994277955,\n",
       "  0.8473999996185303,\n",
       "  0.8534,\n",
       "  0.8575999998092652,\n",
       "  0.8571999996185303,\n",
       "  0.8585999992370605,\n",
       "  0.8615999994277954,\n",
       "  0.8683999996185303,\n",
       "  0.8639999996185302,\n",
       "  0.8710000001907349,\n",
       "  0.872],\n",
       " 'val_loss': [0.6146851348876953,\n",
       "  0.6421593630790711,\n",
       "  0.6424253302574158,\n",
       "  0.6202675498962402,\n",
       "  0.6280293456077576,\n",
       "  0.5204612586975098,\n",
       "  0.5285652625083923,\n",
       "  0.45547812032699586,\n",
       "  0.39604937567710874,\n",
       "  0.3625223785877228,\n",
       "  0.3510687496185303,\n",
       "  0.34187472867965696,\n",
       "  0.33425906796455385,\n",
       "  0.32902787437438963,\n",
       "  0.34276878485679624,\n",
       "  0.3228547087669373,\n",
       "  0.31440029640197753,\n",
       "  0.3163538053035736,\n",
       "  0.3221633818149567,\n",
       "  0.33612985548973084]}"
      ]
     },
     "execution_count": 62,
     "metadata": {},
     "output_type": "execute_result"
    }
   ],
   "source": [
    "model.history"
   ]
  },
  {
   "cell_type": "code",
   "execution_count": null,
   "metadata": {},
   "outputs": [],
   "source": []
  }
 ],
 "metadata": {
  "kernelspec": {
   "display_name": "Python 3",
   "language": "python",
   "name": "python3"
  },
  "language_info": {
   "codemirror_mode": {
    "name": "ipython",
    "version": 3
   },
   "file_extension": ".py",
   "mimetype": "text/x-python",
   "name": "python",
   "nbconvert_exporter": "python",
   "pygments_lexer": "ipython3",
   "version": "3.6.4"
  }
 },
 "nbformat": 4,
 "nbformat_minor": 2
}
